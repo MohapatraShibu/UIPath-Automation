{
  "nbformat": 4,
  "nbformat_minor": 0,
  "metadata": {
    "colab": {
      "provenance": [],
      "collapsed_sections": []
    },
    "kernelspec": {
      "name": "python3",
      "display_name": "Python 3"
    },
    "language_info": {
      "name": "python"
    }
  },
  "cells": [
    {
      "cell_type": "markdown",
      "source": [
        "## **PRACTICAL NO: 9**\n",
        "\n",
        "### **AIM:** Perform Natural Language Processing implementation"
      ],
      "metadata": {
        "id": "0EGfvyFW54rc"
      }
    },
    {
      "cell_type": "markdown",
      "source": [
        "### **CODE and OUTPUT**"
      ],
      "metadata": {
        "id": "5cfClINm6MEU"
      }
    },
    {
      "cell_type": "markdown",
      "source": [
        "#### **Tokenization**"
      ],
      "metadata": {
        "id": "je12URct6S20"
      }
    },
    {
      "cell_type": "code",
      "source": [
        "# sentence tokenization\n",
        "\n",
        "from nltk.tokenize import word_tokenize\n",
        "text = \"God is Great! I won a lottery.\"\n",
        "print(word_tokenize(text))\n",
        "\n",
        "# word tokenize\n",
        "\n",
        "from nltk.tokenize import sent_tokenize\n",
        "text = \"God is Great! I won a lottery.\"\n",
        "print(sent_tokenize(text))"
      ],
      "metadata": {
        "colab": {
          "base_uri": "https://localhost:8080/"
        },
        "id": "_vffKoYG62kW",
        "outputId": "20df7138-bb96-4aff-d3b1-63ef51c2de92"
      },
      "execution_count": null,
      "outputs": [
        {
          "output_type": "stream",
          "name": "stdout",
          "text": [
            "['God', 'is', 'Great', '!', 'I', 'won', 'a', 'lottery', '.']\n",
            "['God is Great!', 'I won a lottery.']\n"
          ]
        }
      ]
    },
    {
      "cell_type": "code",
      "source": [
        "# WordPunctTokenizer – It separates the punctuation from the words\n",
        "\n",
        "from nltk.tokenize import WordPunctTokenizer\n",
        "tokenizer = WordPunctTokenizer()\n",
        "tokenizer.tokenize(\"Let's see how it's working.\")"
      ],
      "metadata": {
        "colab": {
          "base_uri": "https://localhost:8080/"
        },
        "id": "kiOvpxqW668y",
        "outputId": "b2381959-bfe1-40cf-b840-984ffe5a26a3"
      },
      "execution_count": null,
      "outputs": [
        {
          "output_type": "execute_result",
          "data": {
            "text/plain": [
              "['Let', \"'\", 's', 'see', 'how', 'it', \"'\", 's', 'working', '.']"
            ]
          },
          "metadata": {},
          "execution_count": 6
        }
      ]
    },
    {
      "cell_type": "code",
      "source": [
        "# regular expression\n",
        "\n",
        "from nltk.tokenize import regexp_tokenize\n",
        "text = \"Let's see how it's working.\"\n",
        "regexp_tokenize(text, \"[\\w']+\")"
      ],
      "metadata": {
        "colab": {
          "base_uri": "https://localhost:8080/"
        },
        "id": "Myt4VYo37Szt",
        "outputId": "7e6b1acd-85e8-453f-a3b6-e52b61dbaf79"
      },
      "execution_count": null,
      "outputs": [
        {
          "output_type": "execute_result",
          "data": {
            "text/plain": [
              "[\"Let's\", 'see', 'how', \"it's\", 'working']"
            ]
          },
          "metadata": {},
          "execution_count": 9
        }
      ]
    },
    {
      "cell_type": "code",
      "source": [
        "from nltk.tokenize import word_tokenize\n",
        "from nltk.probability import FreqDist\n",
        "\n",
        "text = \"\"\"\"Here’s to the crazy ones, the misfits, the rebels, the troublemakers, the round pegs in the square holes. The ones who see things differently — they’re not fond of rules. You can quote them, disagree with them, glorify or vilify them, but the only thing you can’t do is ignore them because they change things. They push the human race forward, and while some may see them as the crazy ones, we see genius, because the ones who are crazy enough to think\n",
        "that they can change the world, are the ones who do.\"\"\"\n",
        "\n",
        "word_tokens = word_tokenize(text)\n",
        "freq = FreqDist(word_tokens)\n",
        "freq\n",
        "freq.most_common(5)\n",
        "freq.plot(10)"
      ],
      "metadata": {
        "colab": {
          "base_uri": "https://localhost:8080/",
          "height": 313
        },
        "id": "8BHmWUKc7Xm4",
        "outputId": "82478aaa-7da5-4558-c17f-2cb055dba509"
      },
      "execution_count": null,
      "outputs": [
        {
          "output_type": "display_data",
          "data": {
            "text/plain": [
              "<Figure size 432x288 with 1 Axes>"
            ],
            "image/png": "[encoded data removed]"
          },
          "metadata": {
            "needs_background": "light"
          }
        },
        {
          "output_type": "execute_result",
          "data": {
            "text/plain": [
              "<matplotlib.axes._subplots.AxesSubplot at 0x7fc6d1d97a50>"
            ]
          },
          "metadata": {},
          "execution_count": 10
        }
      ]
    },
    {
      "cell_type": "markdown",
      "source": [
        "#### **StopWords**"
      ],
      "metadata": {
        "id": "zpf4t45j7pYV"
      }
    },
    {
      "cell_type": "code",
      "source": [
        "import nltk\n",
        "from nltk.corpus import stopwords\n",
        "nltk.download('stopwords')"
      ],
      "metadata": {
        "colab": {
          "base_uri": "https://localhost:8080/"
        },
        "id": "itJvqry-7xu_",
        "outputId": "f17bef8b-98e1-483a-f539-fbf08876d76a"
      },
      "execution_count": null,
      "outputs": [
        {
          "output_type": "stream",
          "name": "stderr",
          "text": [
            "[nltk_data] Downloading package stopwords to /root/nltk_data...\n",
            "[nltk_data]   Package stopwords is already up-to-date!\n"
          ]
        },
        {
          "output_type": "execute_result",
          "data": {
            "text/plain": [
              "True"
            ]
          },
          "metadata": {},
          "execution_count": 13
        }
      ]
    },
    {
      "cell_type": "code",
      "source": [
        "stop_words = set(stopwords.words(\"english\"))\n",
        "print(stop_words)"
      ],
      "metadata": {
        "colab": {
          "base_uri": "https://localhost:8080/"
        },
        "id": "TZTn5ErT79kp",
        "outputId": "32fa9a91-07c9-4428-fcce-8f2114dd5f49"
      },
      "execution_count": null,
      "outputs": [
        {
          "output_type": "stream",
          "name": "stdout",
          "text": [
            "{\"weren't\", 'with', 'they', 'when', 'we', 'itself', 'don', 'm', 'who', 'your', 'won', 'until', 'weren', 'why', \"needn't\", \"don't\", 'through', 'own', 'ma', 'off', 'isn', 'few', 'just', 'ain', 'i', 'yours', 'for', 'during', \"you'll\", \"shan't\", \"won't\", \"that'll\", \"should've\", 'same', 'should', 'her', 'such', 'how', 'myself', \"it's\", 'can', 'most', 's', 'about', 'on', 'from', 'very', 'those', 'are', \"isn't\", \"wasn't\", 'them', 'more', 'before', 'below', 'wasn', 'do', 'if', 'both', 'she', 'down', 'further', \"shouldn't\", 'you', 'himself', 'or', \"you've\", 'nor', 'am', 't', 'has', 'did', 'under', 'so', \"doesn't\", 'not', \"hasn't\", 'in', 'yourselves', \"you'd\", 'its', 'mustn', 'whom', \"wouldn't\", 'couldn', 'mightn', 'no', 'yourself', 'now', 'where', 'then', 'o', 'this', 'but', 've', \"mightn't\", 'didn', 'my', 'and', \"couldn't\", 'have', 'other', 'it', \"didn't\", 'which', 'is', \"you're\", 'between', 'shan', \"she's\", 'only', 'were', 'his', 'their', 'being', 'd', 'after', 'there', 'than', 'while', 'hasn', 'because', 'will', 'what', 'up', 'shouldn', 'over', 'him', 'ourselves', 'doing', 'that', 'above', 'too', 'hers', 'to', 'does', 'was', 'been', \"hadn't\", 'these', 'ours', 'he', 'each', \"aren't\", 'a', 'themselves', 'll', 'wouldn', 'hadn', 'herself', 'of', \"haven't\", 'doesn', 'against', 'our', 're', 'an', 'had', 'as', 'aren', \"mustn't\", 'having', 'all', 'me', 'again', 'any', 'y', 'at', 'theirs', 'once', 'out', 'haven', 'into', 'some', 'be', 'here', 'needn', 'the', 'by'}\n"
          ]
        }
      ]
    },
    {
      "cell_type": "code",
      "source": [
        "# remove stopwords\n",
        "\n",
        "from nltk.tokenize import sent_tokenize,word_tokenize\n",
        "from nltk.corpus import stopwords\n",
        "stop_words = set(stopwords.words(\"english\"))\n",
        "filtered_word=[]\n",
        "\n",
        "text = \"\"\"\"Here’s to the crazy ones, the misfits, the rebels, the troublemakers, the round pegs in the square holes. The ones who see things differently — they’re not fond of rules. You can quote them, disagree with them, glorify or vilify them, but the only thing you can’t do is ignore them because they change things. They push the human race forward, and while some may see them as the crazy ones, we see genius, because the ones who are crazy enough to think\n",
        "that they can change the world, are the ones who do.\"\"\"\n",
        "\n",
        "tokenized_word = word_tokenize(text)\n",
        "\n",
        "for w in tokenized_word:\n",
        "  if w not in stop_words:\n",
        "    if len(w)>3:\n",
        "      filtered_word.append(w)\n",
        "\n",
        "fdist = FreqDist(filtered_word)\n",
        "print(fdist)"
      ],
      "metadata": {
        "colab": {
          "base_uri": "https://localhost:8080/"
        },
        "id": "RrgreZfk7_IL",
        "outputId": "8e7bcffa-1e76-41ca-b0c7-b12af09a5991"
      },
      "execution_count": null,
      "outputs": [
        {
          "output_type": "stream",
          "name": "stdout",
          "text": [
            "<FreqDist with 30 samples and 38 outcomes>\n"
          ]
        }
      ]
    },
    {
      "cell_type": "markdown",
      "source": [
        "#### **Bigrams & Trigrams**"
      ],
      "metadata": {
        "id": "JlW7TvA78dGG"
      }
    },
    {
      "cell_type": "code",
      "source": [
        "import nltk\n",
        "\n",
        "word_data = \"The best performance can bring in sky high success.\"\n",
        "nltk_tokens = nltk.word_tokenize(word_data)  \t\n",
        "\n",
        "print(list(nltk.bigrams(nltk_tokens)))"
      ],
      "metadata": {
        "colab": {
          "base_uri": "https://localhost:8080/"
        },
        "id": "DIn6jjIj8c0H",
        "outputId": "ce2c3580-aee4-46ab-ce3e-54391917a63a"
      },
      "execution_count": null,
      "outputs": [
        {
          "output_type": "stream",
          "name": "stdout",
          "text": [
            "[('The', 'best'), ('best', 'performance'), ('performance', 'can'), ('can', 'bring'), ('bring', 'in'), ('in', 'sky'), ('sky', 'high'), ('high', 'success'), ('success', '.')]\n"
          ]
        }
      ]
    },
    {
      "cell_type": "code",
      "source": [
        "from nltk.tokenize import sent_tokenize,word_tokenize\n",
        "from nltk.corpus import stopwords\n",
        "from nltk.probability import FreqDist\n",
        "from nltk import bigrams, trigrams\n",
        "\n",
        "stop_words = set(stopwords.words(\"english\"))\n",
        "text = \"\"\"\"Here’s to the crazy ones, the misfits, the rebels, the troublemakers, the round pegs in the square holes. The ones who see things differently — they’re not fond of rules. You can quote them, disagree with them, glorify or vilify them, but the only thing you can’t do is ignore them because they change things. They push the human race forward, and while some may see them as the crazy ones, we see genius, because the ones who are crazy enough to think\n",
        "that they can change the world, are the ones who do.\"\"\"\n",
        "\n",
        "tokenized_word = word_tokenize(text)\n",
        "filtered_word=[w for w in tokenized_word if w not in stop_words and len(w)>3 ]\n",
        "A = trigrams(filtered_word)\n",
        "fdist = FreqDist(A)\n",
        "fdist.most_common(3)"
      ],
      "metadata": {
        "colab": {
          "base_uri": "https://localhost:8080/"
        },
        "id": "-pcl1dHJ80Q8",
        "outputId": "2a9a4267-5744-41a7-d896-0cbbfdfbad8c"
      },
      "execution_count": null,
      "outputs": [
        {
          "output_type": "execute_result",
          "data": {
            "text/plain": [
              "[(('Here', 'crazy', 'ones'), 1),\n",
              " (('crazy', 'ones', 'misfits'), 1),\n",
              " (('ones', 'misfits', 'rebels'), 1)]"
            ]
          },
          "metadata": {},
          "execution_count": 30
        }
      ]
    },
    {
      "cell_type": "markdown",
      "source": [
        "#### **Stemming**"
      ],
      "metadata": {
        "id": "E1KryWaj-AL3"
      }
    },
    {
      "cell_type": "code",
      "source": [
        "from nltk.stem import PorterStemmer\n",
        "from nltk.tokenize import sent_tokenize, word_tokenize\n",
        "\n",
        "ps = PorterStemmer()\n",
        "example_word = ['like', 'likely', 'liking','liked', 'unlike' ]\n",
        "\n",
        "for w in example_word:\n",
        "  print(ps.stem(w))"
      ],
      "metadata": {
        "colab": {
          "base_uri": "https://localhost:8080/"
        },
        "id": "LWsD5MZY-Pt5",
        "outputId": "ad8ee838-3a38-46ce-d14c-ae5362e6b47f"
      },
      "execution_count": null,
      "outputs": [
        {
          "output_type": "stream",
          "name": "stdout",
          "text": [
            "like\n",
            "like\n",
            "like\n",
            "like\n",
            "unlik\n"
          ]
        }
      ]
    },
    {
      "cell_type": "markdown",
      "source": [
        "#### **Lemmatization**"
      ],
      "metadata": {
        "id": "guDD-D02-Zvn"
      }
    },
    {
      "cell_type": "code",
      "source": [
        "from nltk.stem import WordNetLemmatizer\n",
        "nltk.download('wordnet')\n",
        "nltk.download('omw-1.4')"
      ],
      "metadata": {
        "colab": {
          "base_uri": "https://localhost:8080/"
        },
        "id": "fskE-FyK-c2R",
        "outputId": "eaed851a-55c2-4fb5-a65c-54771e96cf80"
      },
      "execution_count": null,
      "outputs": [
        {
          "output_type": "stream",
          "name": "stderr",
          "text": [
            "[nltk_data] Downloading package wordnet to /root/nltk_data...\n",
            "[nltk_data]   Package wordnet is already up-to-date!\n",
            "[nltk_data] Downloading package omw-1.4 to /root/nltk_data...\n",
            "[nltk_data]   Package omw-1.4 is already up-to-date!\n"
          ]
        },
        {
          "output_type": "execute_result",
          "data": {
            "text/plain": [
              "True"
            ]
          },
          "metadata": {},
          "execution_count": 37
        }
      ]
    },
    {
      "cell_type": "code",
      "source": [
        "wl = WordNetLemmatizer()\n",
        "words = ['cats', 'feet', 'bats', 'corpora']\n",
        "for w in words:\n",
        "  print(wl.lemmatize(w))"
      ],
      "metadata": {
        "colab": {
          "base_uri": "https://localhost:8080/"
        },
        "id": "0bxO7AJv-vIm",
        "outputId": "7cd80259-fd19-4f39-bcc5-0f8a924aa292"
      },
      "execution_count": null,
      "outputs": [
        {
          "output_type": "stream",
          "name": "stdout",
          "text": [
            "cat\n",
            "foot\n",
            "bat\n",
            "corpus\n"
          ]
        }
      ]
    },
    {
      "cell_type": "code",
      "source": [
        "from nltk.stem import WordNetLemmatizer\n",
        "lemmatizer = WordNetLemmatizer()\n",
        "\n",
        "sentence = \"The striped bats are hanging on their feet for best\"\n",
        "\n",
        "word_list = nltk.word_tokenize(sentence)\n",
        "print(word_list)\n",
        "lemmatized_output = ' '.join([lemmatizer.lemmatize(w) for w in word_list])\n",
        "print(lemmatized_output)"
      ],
      "metadata": {
        "colab": {
          "base_uri": "https://localhost:8080/"
        },
        "id": "snP7Nd81-4FU",
        "outputId": "a2955ada-e753-4478-8461-84d509c1eb2a"
      },
      "execution_count": null,
      "outputs": [
        {
          "output_type": "stream",
          "name": "stdout",
          "text": [
            "['The', 'striped', 'bats', 'are', 'hanging', 'on', 'their', 'feet', 'for', 'best']\n",
            "The striped bat are hanging on their foot for best\n"
          ]
        }
      ]
    },
    {
      "cell_type": "markdown",
      "source": [
        "#### **Tagging Part of Speech**"
      ],
      "metadata": {
        "id": "Q8J5vdRh_DQ1"
      }
    },
    {
      "cell_type": "code",
      "source": [
        "import nltk\n",
        "nltk.download('averaged_perceptron_tagger')\n",
        "from nltk.corpus import stopwords\n",
        "from nltk.tokenize import word_tokenize, sent_tokenize\n",
        "stop_words = set(stopwords.words('english'))\n",
        "\n",
        "txt = \"Sukanya, Rajib and Naba are my good friends. \" \\\n",
        "\t\"Sukanya is getting married next year. \" \\\n",
        "\t\"Marriage is a big step in one’s life.\" \\\n",
        "\t\"It is both exciting and frightening. \" \\\n",
        "\t\"But friendship is a sacred bond between people.\" \\\n",
        "\t\"It is a special kind of love between us. \" \\\n",
        "\t\"Many of you must have tried searching for a friend \"\\\n",
        "\t\"but never found the right one.\""
      ],
      "metadata": {
        "colab": {
          "base_uri": "https://localhost:8080/"
        },
        "id": "i7r_Hq5X_GuG",
        "outputId": "e64cecbe-efbe-49e6-bd9b-08245a976b15"
      },
      "execution_count": null,
      "outputs": [
        {
          "output_type": "stream",
          "name": "stderr",
          "text": [
            "[nltk_data] Downloading package averaged_perceptron_tagger to\n",
            "[nltk_data]     /root/nltk_data...\n",
            "[nltk_data]   Unzipping taggers/averaged_perceptron_tagger.zip.\n"
          ]
        }
      ]
    },
    {
      "cell_type": "code",
      "source": [
        "tokenized = sent_tokenize(txt)\n",
        "\n",
        "for i in tokenized:\n",
        "\twordsList = nltk.word_tokenize(i)\n",
        "\n",
        "\t# removing stop words from wordList\n",
        "\twordsList = [w for w in wordsList if not w in stop_words]\n",
        "\n",
        "\t# Using a Tagger. Which is part-of-speech\n",
        "\t# tagger or POS-tagger.\n",
        "\ttagged = nltk.pos_tag(wordsList)\n",
        "\n",
        "\tprint(tagged)"
      ],
      "metadata": {
        "colab": {
          "base_uri": "https://localhost:8080/"
        },
        "id": "Nlldrp8ZE54-",
        "outputId": "fb33b95a-c756-45f3-93ae-004db4bfa289"
      },
      "execution_count": null,
      "outputs": [
        {
          "output_type": "stream",
          "name": "stdout",
          "text": [
            "[('Sukanya', 'NNP'), (',', ','), ('Rajib', 'NNP'), ('Naba', 'NNP'), ('good', 'JJ'), ('friends', 'NNS'), ('.', '.')]\n",
            "[('Sukanya', 'NNP'), ('getting', 'VBG'), ('married', 'VBN'), ('next', 'JJ'), ('year', 'NN'), ('.', '.')]\n",
            "[('Marriage', 'NN'), ('big', 'JJ'), ('step', 'NN'), ('one', 'CD'), ('’', 'NN'), ('life.It', 'NN'), ('exciting', 'VBG'), ('frightening', 'NN'), ('.', '.')]\n",
            "[('But', 'CC'), ('friendship', 'NN'), ('sacred', 'VBD'), ('bond', 'NN'), ('people.It', 'NN'), ('special', 'JJ'), ('kind', 'NN'), ('love', 'VB'), ('us', 'PRP'), ('.', '.')]\n",
            "[('Many', 'JJ'), ('must', 'MD'), ('tried', 'VB'), ('searching', 'VBG'), ('friend', 'NN'), ('never', 'RB'), ('found', 'VBD'), ('right', 'JJ'), ('one', 'CD'), ('.', '.')]\n"
          ]
        }
      ]
    },
    {
      "cell_type": "code",
      "source": [
        "from nltk import pos_tag\n",
        "from nltk import RegexpParser\n",
        "\n",
        "text =\"learn php from guru99 and make study easy\".split()\n",
        "print(\"After Split:\",text)\n",
        "\n",
        "tokens_tag = pos_tag(text)\n",
        "print(\"After Token:\",tokens_tag)\n",
        "\n",
        "patterns= \"\"\"mychunk:{<NN.?>*<VBD.?>*<JJ.?>*<CC>?}\"\"\"\n",
        "chunker = RegexpParser(patterns)\n",
        "\n",
        "print(\"After Regex:\",chunker)\n",
        "output = chunker.parse(tokens_tag)\n",
        "print(\"After Chunking\",output)"
      ],
      "metadata": {
        "colab": {
          "base_uri": "https://localhost:8080/"
        },
        "id": "c-v0J-cWFTRX",
        "outputId": "c84f256a-9e49-4817-bb38-8afb8824c74d"
      },
      "execution_count": null,
      "outputs": [
        {
          "output_type": "stream",
          "name": "stdout",
          "text": [
            "After Split: ['learn', 'php', 'from', 'guru99', 'and', 'make', 'study', 'easy']\n",
            "After Token: [('learn', 'JJ'), ('php', 'NN'), ('from', 'IN'), ('guru99', 'NN'), ('and', 'CC'), ('make', 'VB'), ('study', 'NN'), ('easy', 'JJ')]\n",
            "After Regex: chunk.RegexpParser with 1 stages:\n",
            "RegexpChunkParser with 1 rules:\n",
            "       <ChunkRule: '<NN.?>*<VBD.?>*<JJ.?>*<CC>?'>\n",
            "After Chunking (S\n",
            "  (mychunk learn/JJ)\n",
            "  (mychunk php/NN)\n",
            "  from/IN\n",
            "  (mychunk guru99/NN and/CC)\n",
            "  make/VB\n",
            "  (mychunk study/NN easy/JJ))\n"
          ]
        }
      ]
    },
    {
      "cell_type": "markdown",
      "source": [
        "#### **Name Recognition Entity**"
      ],
      "metadata": {
        "id": "JwXXxT46FdEC"
      }
    },
    {
      "cell_type": "code",
      "source": [
        "import nltk\n",
        "nltk.download('maxent_ne_chunker')\n",
        "nltk.download('words')\n",
        "\n",
        "from nltk.tokenize import word_tokenize ,sent_tokenize\n",
        "from nltk import ne_chunk\n",
        "from nltk import pos_tag\n",
        "\n",
        "text = (\"Python is an interpreted, high-level and general-purpose programming language \"\n",
        "       \"Pythons design philosophy emphasizes code readability with\"\n",
        "       \"its notable use of significant indentation.\"\n",
        "       \"Its language constructs and object-oriented approach aim to\"\n",
        "       \"help programmers write clear and\"\n",
        "       \"logical code for small and large-scale projects\")"
      ],
      "metadata": {
        "colab": {
          "base_uri": "https://localhost:8080/"
        },
        "id": "k7sxa6yoFgL3",
        "outputId": "02e8fe37-4c05-43a7-9178-64caa4a221f1"
      },
      "execution_count": null,
      "outputs": [
        {
          "output_type": "stream",
          "name": "stderr",
          "text": [
            "[nltk_data] Downloading package maxent_ne_chunker to\n",
            "[nltk_data]     /root/nltk_data...\n",
            "[nltk_data]   Package maxent_ne_chunker is already up-to-date!\n",
            "[nltk_data] Downloading package words to /root/nltk_data...\n",
            "[nltk_data]   Unzipping corpora/words.zip.\n"
          ]
        }
      ]
    },
    {
      "cell_type": "code",
      "source": [
        "tokenze_text = nltk.word_tokenize(text)\n",
        "pos_word = pos_tag(tokenze_text)\n",
        "len(pos_word)\n",
        "ne_words = ne_chunk(pos_word)\n",
        "print(ne_words)"
      ],
      "metadata": {
        "colab": {
          "base_uri": "https://localhost:8080/"
        },
        "id": "46Q0PNXjFp6A",
        "outputId": "52c8857c-5ba4-47cf-8d27-159bcc855284"
      },
      "execution_count": null,
      "outputs": [
        {
          "output_type": "stream",
          "name": "stdout",
          "text": [
            "(S\n",
            "  (GPE Python/NNP)\n",
            "  is/VBZ\n",
            "  an/DT\n",
            "  interpreted/JJ\n",
            "  ,/,\n",
            "  high-level/JJ\n",
            "  and/CC\n",
            "  general-purpose/JJ\n",
            "  programming/NN\n",
            "  language/NN\n",
            "  (PERSON Pythons/NNP)\n",
            "  design/NN\n",
            "  philosophy/NN\n",
            "  emphasizes/VBZ\n",
            "  code/JJ\n",
            "  readability/NN\n",
            "  withits/NNS\n",
            "  notable/JJ\n",
            "  use/NN\n",
            "  of/IN\n",
            "  significant/JJ\n",
            "  indentation.Its/JJ\n",
            "  language/NN\n",
            "  constructs/NNS\n",
            "  and/CC\n",
            "  object-oriented/JJ\n",
            "  approach/NN\n",
            "  aim/NN\n",
            "  tohelp/NN\n",
            "  programmers/NNS\n",
            "  write/VBP\n",
            "  clear/JJ\n",
            "  andlogical/JJ\n",
            "  code/NN\n",
            "  for/IN\n",
            "  small/JJ\n",
            "  and/CC\n",
            "  large-scale/JJ\n",
            "  projects/NNS)\n"
          ]
        }
      ]
    }
  ]
}